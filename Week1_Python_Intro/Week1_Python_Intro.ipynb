{
 "cells": [
  {
   "cell_type": "markdown",
   "metadata": {
    "id": "O_swqHKdY1cn"
   },
   "source": [
    "# **Week 1: Introduction to Python for Astronomy**"
   ]
  },
  {
   "cell_type": "markdown",
   "metadata": {
    "id": "COAqli9GZ5D7"
   },
   "source": [
    "# **Basics of Python (Syntax, Variables, Data Types)**"
   ]
  },
  {
   "cell_type": "markdown",
   "metadata": {
    "id": "r-HPXVjUaB-K"
   },
   "source": [
    "**Variables in Python**\n",
    "\n",
    "A variable in Python is a name assigned to a value, allowing you to store and manipulate data easily. Python is dynamically typed, meaning you don’t need to declare the type of a variable explicitly."
   ]
  },
  {
   "cell_type": "code",
   "execution_count": null,
   "metadata": {
    "id": "q9zLhRf8aM3o"
   },
   "outputs": [],
   "source": [
    "# Assigning values to variables\n",
    "star_name = \"Sirius\"      # String\n",
    "star_distance = 8.6       # Float (light-years)\n",
    "star_temperature = 9940   # Integer (Kelvin)\n",
    "is_visible = True         # Boolean"
   ]
  },
  {
   "cell_type": "markdown",
   "metadata": {
    "id": "ZFwzWeEbaPl2"
   },
   "source": [
    "In the example above:\n",
    "\n",
    "* `\"Sirius\"` is a **string** (text),\n",
    "* `8.6` is a **float** (decimal number),\n",
    "* `9940` is an **integer** (whole number),\n",
    "* `True` is a **boolean** (True/False).\n"
   ]
  },
  {
   "cell_type": "markdown",
   "metadata": {
    "id": "sphAdd9BaxM4"
   },
   "source": [
    "**Common Data Types in Python**\n",
    "\n",
    "Python has several built-in data types that are useful for scientific and astronomical computations."
   ]
  },
  {
   "cell_type": "markdown",
   "metadata": {
    "id": "OhIpDEmfa58o"
   },
   "source": [
    "1. Integers (`int`) – Whole numbers.\n",
    "\n",
    "```\n",
    "num_stars = 100  # Number of stars in a small cluster\n",
    "```\n",
    "\n",
    "2. Floating Point Numbers (`float`) – Decimal numbers.\n",
    "\n",
    "```\n",
    "star_mass = 1.989e30  # Mass of the Sun in kg\n",
    "```\n",
    "\n",
    "3. Strings (`str`) – Text data.\n",
    "\n",
    "```\n",
    "galaxy = \"Milky Way\"\n",
    "```\n",
    "\n",
    "4. Boolean (`bool`) – Represents True or False values.\n",
    "\n",
    "```\n",
    "is_exoplanet_detected = False\n",
    "\n",
    "```\n",
    "\n",
    "5. Lists (`list`) – Ordered, mutable collection of items.\n",
    "\n",
    "```\n",
    "planet_names = [\"Earth\", \"Mars\", \"Jupiter\"]\n",
    "```\n",
    "\n",
    "6. Tuples (`tuple`) – Ordered, immutable collection of items.\n",
    "\n",
    "```\n",
    "sun_properties = (\"G-type\", 5778, 1.0)  # Spectral type, temperature (K), mass (solar masses)\n",
    "```\n",
    "\n",
    "7. Dictionaries (`dict`) – Key-value pairs for structured data.\n",
    "\n",
    "```\n",
    "star_data = {\"name\": \"Betelgeuse\", \"type\": \"Red Supergiant\", \"distance\": 642.5}\n",
    "```\n"
   ]
  },
  {
   "cell_type": "markdown",
   "metadata": {
    "id": "sMDUHdasd2VO"
   },
   "source": [
    "Examples of defining variable, lists and loops:"
   ]
  },
  {
   "cell_type": "code",
   "execution_count": 1,
   "metadata": {
    "colab": {
     "base_uri": "https://localhost:8080/"
    },
    "id": "hEkrxHTOdcb7",
    "outputId": "c524a956-c172-479a-dd5c-70ee4c012b0c"
   },
   "outputs": [
    {
     "name": "stdout",
     "output_type": "stream",
     "text": [
      "Planet: Earth, Distance from Sun: 1.0 AU, Moons: 1\n"
     ]
    }
   ],
   "source": [
    "# Defining variables\n",
    "planet_name = \"Earth\"  # String\n",
    "distance_from_sun = 1.0  # Astronomical Units (AU)\n",
    "number_of_moons = 1  # Integer\n",
    "orbital_period = 365.25  # Days (Float)\n",
    "\n",
    "print(f\"Planet: {planet_name}, Distance from Sun: {distance_from_sun} AU, Moons: {number_of_moons}\")\n"
   ]
  },
  {
   "cell_type": "code",
   "execution_count": 2,
   "metadata": {
    "colab": {
     "base_uri": "https://localhost:8080/"
    },
    "id": "r1A-paVFdxgS",
    "outputId": "a32c1cb2-caac-48ec-ba9c-2d19de94cff0"
   },
   "outputs": [
    {
     "name": "stdout",
     "output_type": "stream",
     "text": [
      "Planet: Mercury\n",
      "Planet: Venus\n",
      "Planet: Earth\n",
      "Planet: Mars\n",
      "Planet: Jupiter\n",
      "Planet: Saturn\n",
      "Planet: Uranus\n",
      "Planet: Neptune\n"
     ]
    }
   ],
   "source": [
    "# Lists and loops\n",
    "planets = [\"Mercury\", \"Venus\", \"Earth\", \"Mars\", \"Jupiter\", \"Saturn\", \"Uranus\", \"Neptune\"]\n",
    "for planet in planets:\n",
    "    print(f\"Planet: {planet}\")"
   ]
  },
  {
   "cell_type": "markdown",
   "metadata": {
    "id": "oJFPqMPAfuqb"
   },
   "source": [
    "# **Functions and Modules in Python**"
   ]
  },
  {
   "cell_type": "markdown",
   "metadata": {
    "id": "vdIprLmcf9Da"
   },
   "source": [
    "**Functions in Python**\n",
    "\n",
    "A function is a reusable block of code that performs a specific task. Functions help make code modular, readable, and efficient. Python has built-in functions (like `print()`, `len()`, and `sum()`), and users can define their own custom functions.\n",
    "\n",
    "\\\\\n",
    "\n",
    "**Example: Defining a Function for Calculating Earth-Sun Gravitational Force**"
   ]
  },
  {
   "cell_type": "code",
   "execution_count": 3,
   "metadata": {
    "colab": {
     "base_uri": "https://localhost:8080/"
    },
    "id": "hbf17uzMgZ0f",
    "outputId": "910eb834-8af1-4a11-ec69-f1cff6c1d260"
   },
   "outputs": [
    {
     "name": "stdout",
     "output_type": "stream",
     "text": [
      "Gravitational Force between Earth and Sun: 3.54e+22 N\n"
     ]
    }
   ],
   "source": [
    "import math\n",
    "\n",
    "def gravitational_force(m1, m2, r):\n",
    "    G = 6.67430e-11  # Gravitational constant in m^3 kg^-1 s^-2\n",
    "    return G * (m1 * m2) / r**2\n",
    "\n",
    "# Example: Earth-Sun gravitational force\n",
    "mass_earth = 5.972e24  # kg\n",
    "mass_sun = 1.989e30  # kg\n",
    "distance_earth_sun = 1.496e11  # meters\n",
    "\n",
    "force = gravitational_force(mass_earth, mass_sun, distance_earth_sun)\n",
    "print(f\"Gravitational Force between Earth and Sun: {force:.2e} N\")\n"
   ]
  },
  {
   "cell_type": "markdown",
   "metadata": {
    "id": "4SGVkEGVg4WY"
   },
   "source": [
    "Try writing a function to calculate escape velocity from Earth:"
   ]
  },
  {
   "cell_type": "code",
   "execution_count": null,
   "metadata": {
    "cellView": "form",
    "colab": {
     "base_uri": "https://localhost:8080/"
    },
    "collapsed": true,
    "id": "drXKRaudgM8M",
    "outputId": "d2235a45-f6ad-4287-b31c-e66253cc1c99"
   },
   "outputs": [
    {
     "name": "stdout",
     "output_type": "stream",
     "text": [
      "Escape velocity of Earth: 11185.97789184991 m/s\n"
     ]
    }
   ],
   "source": [
    "import math\n",
    "\n",
    "def escape_velocity(mass, radius):\n",
    "    \"\"\"Calculate the escape velocity of a celestial body.\"\"\"\n",
    "    G = 6.67430e-11  # Gravitational constant in m^3 kg^-1 s^-2\n",
    "    return math.sqrt(2 * G * mass / radius)\n",
    "\n",
    "# Example: Earth's escape velocity\n",
    "earth_mass = 5.972e24  # kg\n",
    "earth_radius = 6.371e6  # meters\n",
    "\n",
    "print(\"Escape velocity of Earth:\", escape_velocity(earth_mass, earth_radius), \"m/s\")"
   ]
  },
  {
   "cell_type": "markdown",
   "metadata": {
    "id": "_4QX8hthh78S"
   },
   "source": [
    "**Modules in Python**\n",
    "\n",
    "A module is a file containing Python code that can include functions, classes, and variables. Python provides many built-in modules (e.g., `math`, `numpy`, `matplotlib`), and users can also create their own.\n",
    "\n",
    "\n",
    "**Example: Using the `math` and `numpy` Modules**"
   ]
  },
  {
   "cell_type": "code",
   "execution_count": 9,
   "metadata": {
    "colab": {
     "base_uri": "https://localhost:8080/"
    },
    "id": "hBtfO8aliVdj",
    "outputId": "97124707-0252-4e56-8a41-c11a45aefcbc"
   },
   "outputs": [
    {
     "name": "stdout",
     "output_type": "stream",
     "text": [
      "Sine of 45 degrees: 0.7071067811865475\n",
      "--- \n",
      "Mean magnitude of stars: 3.875\n"
     ]
    }
   ],
   "source": [
    "import math\n",
    "import numpy as np\n",
    "\n",
    "# Using math module\n",
    "angle_rad = math.radians(45)  # Convert 45 degrees to radians\n",
    "print(\"Sine of 45 degrees:\", math.sin(angle_rad))\n",
    "\n",
    "# Using numpy for array operations\n",
    "star_magnitudes = np.array([4.3, 3.5, 2.1, 5.6])  # Creating an array of star magnitudes\n",
    "print(\"--- \\n\"+\"Mean magnitude of stars:\", np.mean(star_magnitudes))\n"
   ]
  },
  {
   "cell_type": "markdown",
   "metadata": {
    "id": "sKdaBdlLmnx4"
   },
   "source": [
    "Modules allow us to extend Python's functionality, making complex tasks easier, especially in scientific computations.\n",
    "\n",
    "In astronomy, we frequently use specialized modules like:\n",
    "\n",
    "* `astropy` for astronomical calculations\n",
    "* `scipy.optimize` for fitting models to data\n",
    "* `matplotlib` for visualization\n",
    "\n",
    "Using functions and modules effectively helps streamline astronomical data analysis and research!"
   ]
  },
  {
   "cell_type": "markdown",
   "metadata": {
    "id": "uT07XF6WnX_x"
   },
   "source": [
    "# **Reading and Manipulating Astronomical Datasets**"
   ]
  },
  {
   "cell_type": "markdown",
   "metadata": {
    "id": "_q9HkeiqncZc"
   },
   "source": [
    "Handling and analyzing astronomical datasets is a crucial aspect of research. Python provides powerful libraries such as `Astropy`, `Pandas`, and `h5py` to efficiently read, manipulate, and store large datasets. Below is an explanation of the different dataset formats covered in the notebook."
   ]
  },
  {
   "cell_type": "markdown",
   "metadata": {
    "id": "Et59CCYtn9Ea"
   },
   "source": [
    "**Using Astropy Tables for Astronomical Data**"
   ]
  },
  {
   "cell_type": "markdown",
   "metadata": {
    "id": "KbuTgg0GoFQo"
   },
   "source": [
    "The `astropy.table.Table` class is designed specifically for handling structured astronomical data. It functions similarly to `Pandas` DataFrames but is optimized for astrophysics applications.\n",
    "\n",
    "In the example below we show how to:\n",
    "\n",
    "* **Create a star catalog as a table:**\n",
    "The dataset contains a few stars with their magnitudes and distances.\n",
    "\n",
    "* **Filter data:**\n",
    "We filter stars with a magnitude brighter than `0.0`, useful for identifying prominent celestial objects."
   ]
  },
  {
   "cell_type": "code",
   "execution_count": 11,
   "metadata": {
    "colab": {
     "base_uri": "https://localhost:8080/"
    },
    "id": "LfeFsK9worHa",
    "outputId": "fd194502-af75-4135-a968-2918349c61b8"
   },
   "outputs": [
    {
     "name": "stdout",
     "output_type": "stream",
     "text": [
      "   Star    Magnitude Distance (ly)\n",
      "---------- --------- -------------\n",
      "    Sirius     -1.46           8.6\n",
      "      Vega      0.03          25.0\n",
      "Betelgeuse      0.42         642.5\n",
      "\n",
      "Bright Stars:\n",
      " Star  Magnitude Distance (ly)\n",
      "------ --------- -------------\n",
      "Sirius     -1.46           8.6\n"
     ]
    }
   ],
   "source": [
    "from astropy.table import Table\n",
    "import pandas as pd\n",
    "import h5py\n",
    "\n",
    "# Example dataset: Star catalog\n",
    "data = {\"Star\": [\"Sirius\", \"Vega\", \"Betelgeuse\"],\n",
    "        \"Magnitude\": [-1.46, 0.03, 0.42],\n",
    "        \"Distance (ly)\": [8.6, 25.0, 642.5]}\n",
    "\n",
    "star_table = Table(data)\n",
    "print(star_table)\n",
    "\n",
    "# Filtering stars brighter than magnitude 0\n",
    "bright_stars = star_table[star_table[\"Magnitude\"] < 0]\n",
    "print(\"\\n\"+\"Bright Stars:\")\n",
    "print(bright_stars)"
   ]
  },
  {
   "cell_type": "markdown",
   "metadata": {
    "id": "48y0NzqppQET"
   },
   "source": [
    "**Working with CSV Files**"
   ]
  },
  {
   "cell_type": "markdown",
   "metadata": {
    "id": "EWPWBV72pUJ3"
   },
   "source": [
    "CSV (Comma-Separated Values) files are widely used to store tabular data. The `pandas` library allows easy reading and writing of CSV files.\n",
    "\n",
    "In the example below we show how to:\n",
    "\n",
    "* **Save the star catalog to a CSV file:**\n",
    "This helps store structured astronomical data for future analysis.\n",
    "* **Load data from a CSV file:**\n",
    "Pandas provides functions to efficiently load and inspect the dataset."
   ]
  },
  {
   "cell_type": "code",
   "execution_count": 12,
   "metadata": {
    "colab": {
     "base_uri": "https://localhost:8080/"
    },
    "id": "xy4Tpjphp40D",
    "outputId": "1029b390-e4b9-4224-de69-c58096c97daf"
   },
   "outputs": [
    {
     "name": "stdout",
     "output_type": "stream",
     "text": [
      "Loaded CSV Data:\n",
      "         Star  Magnitude  Distance (ly)\n",
      "0      Sirius      -1.46            8.6\n",
      "1        Vega       0.03           25.0\n",
      "2  Betelgeuse       0.42          642.5\n"
     ]
    }
   ],
   "source": [
    "# Working with CSV files\n",
    "# -----------------------\n",
    "star_table.write(\"stars.csv\", format=\"csv\", overwrite=True)\n",
    "loaded_stars = pd.read_csv(\"stars.csv\")\n",
    "print(\"Loaded CSV Data:\")\n",
    "print(loaded_stars)"
   ]
  },
  {
   "cell_type": "markdown",
   "metadata": {
    "id": "rZaySutLp-YR"
   },
   "source": [
    "**Working with HDF5 Files**"
   ]
  },
  {
   "cell_type": "markdown",
   "metadata": {
    "id": "3rc-luFuqCBw"
   },
   "source": [
    "HDF5 (Hierarchical Data Format) is useful for handling large astronomical datasets, such as simulations and sky surveys. The `h5py` module allows efficient storage and retrieval of structured data.\n",
    "\n",
    "In the examle below we show how to:\n",
    "\n",
    "* **Create an HDF5 file:**\n",
    "In this example, star names and magnitudes are stored in an HDF5 format.\n",
    "* **Read data from an HDF5 file:**\n",
    "Extracting and inspecting stored data for further analysis."
   ]
  },
  {
   "cell_type": "code",
   "execution_count": 17,
   "metadata": {
    "colab": {
     "base_uri": "https://localhost:8080/"
    },
    "id": "r_ypskP-qb_e",
    "outputId": "286159bf-c976-4392-894f-d670bb94b5f8"
   },
   "outputs": [
    {
     "name": "stdout",
     "output_type": "stream",
     "text": [
      "HDF5 Star Names: [b'Sirius', b'Vega', b'Betelgeuse']\n",
      "HDF5 Magnitudes: [-1.46, 0.03, 0.42]\n"
     ]
    }
   ],
   "source": [
    "# Working with HDF5 files\n",
    "# ------------------------\n",
    "with h5py.File(\"stars.hdf5\", \"w\") as f:\n",
    "    f.create_dataset(\"star_names\", data=[\"Sirius\", \"Vega\", \"Betelgeuse\"])\n",
    "    f.create_dataset(\"magnitudes\", data=[-1.46, 0.03, 0.42])\n",
    "\n",
    "with h5py.File(\"stars.hdf5\", \"r\") as f:\n",
    "    print(\"HDF5 Star Names:\", list(f[\"star_names\"]))\n",
    "    print(\"HDF5 Magnitudes:\", list(f[\"magnitudes\"]))"
   ]
  }
 ],
 "metadata": {
  "colab": {
   "provenance": []
  },
  "kernelspec": {
   "display_name": "Python 3",
   "language": "python",
   "name": "python3"
  },
  "language_info": {
   "codemirror_mode": {
    "name": "ipython",
    "version": 3
   },
   "file_extension": ".py",
   "mimetype": "text/x-python",
   "name": "python",
   "nbconvert_exporter": "python",
   "pygments_lexer": "ipython3",
   "version": "3.7.6"
  }
 },
 "nbformat": 4,
 "nbformat_minor": 1
}
