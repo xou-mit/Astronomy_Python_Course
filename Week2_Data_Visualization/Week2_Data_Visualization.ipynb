{
 "cells": [
  {
   "cell_type": "markdown",
   "metadata": {
    "id": "mGDFqXvetkf8"
   },
   "source": [
    "# **Week 2: Data Visualization in Astronomy**"
   ]
  },
  {
   "cell_type": "markdown",
   "metadata": {
    "id": "xew0SUp0t4d5"
   },
   "source": [
    "Visualization is a key aspect of analyzing astronomical data, allowing us to identify patterns, distributions, and relationships. Below are some examples of the different visualization techniques used in the notebook and their significance in astronomy."
   ]
  },
  {
   "cell_type": "code",
   "execution_count": null,
   "metadata": {
    "collapsed": true,
    "id": "dhKK_MB_4vvF"
   },
   "outputs": [],
   "source": [
    "!pip install corner\n",
    "!pip install astropy\n",
    "!pip install seaborn"
   ]
  },
  {
   "cell_type": "code",
   "execution_count": null,
   "metadata": {
    "id": "5krQInElurs5"
   },
   "outputs": [],
   "source": [
    "# Import necessary libraries\n",
    "import numpy as np\n",
    "import matplotlib.pyplot as plt\n",
    "import seaborn as sns\n",
    "from astropy.table import Table\n",
    "from mpl_toolkits.mplot3d import Axes3D\n",
    "import corner"
   ]
  },
  {
   "cell_type": "markdown",
   "metadata": {
    "id": "mfcgOBYPuLJP"
   },
   "source": [
    "# **Scatter Plot – Absolute Magnitude vs Size for Milky Way Satellites**"
   ]
  },
  {
   "cell_type": "markdown",
   "metadata": {
    "id": "4gbR0EBeuOv5"
   },
   "source": [
    "A scatter plot is used to examine relationships between two variables. In this case, we plot the absolute magnitude of galaxies against their size (half-light radius) in parsec.\n",
    "\n",
    "**What does this plot show?**\n",
    "\n",
    "* Each point represents a satellite galaxy of the Milky Way.\n",
    "* The x-axis shows the size (half-light radius) and the y-axis shows how bright the galaxy is.\n",
    "* Brighter galaxies appear higher on the plot due to the inverted y-axis (astronomical convention)."
   ]
  },
  {
   "cell_type": "code",
   "execution_count": null,
   "metadata": {
    "id": "UD6Q2rUju4v0"
   },
   "outputs": [],
   "source": [
    "# Example 1: Scatter Plot – Absolute Magnitude vs Half-light Radius for Milky Way Satellites\n",
    "# -----------------------------------------------------------------------------------------\n",
    "\n",
    "# Read the dwarf galaxy data from the online database\n",
    "dsph_mw = Table.read('https://raw.githubusercontent.com/apace7/local_volume_database/main/data/dwarf_mw.csv')\n",
    "\n",
    "# Print the first few rows to inspect the data\n",
    "print(dsph_mw[:5])\n",
    "\n",
    "# Extract the half-light radius and absolute magnitude columns\n",
    "r_half = dsph_mw['rhalf_sph_physical']  # Half-light radius (pc)\n",
    "M_V = dsph_mw['M_V']                    # Absolute V-band magnitude\n",
    "\n",
    "# Create the scatter plot\n",
    "plt.figure(figsize=(8,6))\n",
    "plt.scatter(r_half, M_V, color='blue', marker='o')\n",
    "#plt.plot(r_half, M_V, 'o', color='blue')\n",
    "plt.gca().invert_yaxis()  # Brighter galaxies have lower (more negative) magnitudes\n",
    "plt.gca().set_xscale('log')\n",
    "plt.xlabel(\"Half-light Radius (pc)\")\n",
    "plt.ylabel(\"Absolute Magnitude (M$_V$)\")\n",
    "plt.title(\"Milky Way Satellite Galaxies: M$_V$ vs Half-light Radius\")\n",
    "plt.show()"
   ]
  },
  {
   "cell_type": "markdown",
   "metadata": {
    "id": "_fPsVZO1_Esm"
   },
   "source": [
    "**Multi-panels and Error bars**"
   ]
  },
  {
   "cell_type": "code",
   "execution_count": null,
   "metadata": {
    "id": "n7KB0Xnp_Esn"
   },
   "outputs": [],
   "source": [
    "# Read the dwarf galaxy data from the online database\n",
    "dsph_mw = Table.read('https://raw.githubusercontent.com/apace7/local_volume_database/main/data/dwarf_mw.csv')\n",
    "\n",
    "# Extract columns\n",
    "r_half = dsph_mw['rhalf_sph_physical']  # Half-light radius (pc)\n",
    "M_V = dsph_mw['M_V']                    # Absolute V-band magnitude\n",
    "\n",
    "# Error columns\n",
    "r_half_em = dsph_mw['rhalf_sph_physical_em']  # Lower error on r_half\n",
    "r_half_ep = dsph_mw['rhalf_sph_physical_ep']  # Upper error on r_half\n",
    "M_V_em = dsph_mw['M_V_em']                    # Lower error on M_V\n",
    "M_V_ep = dsph_mw['M_V_ep']                    # Upper error on M_V\n",
    "\n",
    "# Set up side-by-side panels\n",
    "fig, axes = plt.subplots(1, 2, figsize=(14, 6), sharey=True)\n",
    "\n",
    "# Left panel: Simple scatter plot\n",
    "axes[0].scatter(r_half, M_V, color='blue', marker='o')\n",
    "#axes[0].invert_yaxis()\n",
    "axes[0].set_xscale('log')\n",
    "axes[0].set_xlabel(\"Half-light Radius (pc)\")\n",
    "axes[0].set_ylabel(\"Absolute Magnitude (M$_V$)\")\n",
    "axes[0].set_title(\"MW Satellites: M$_V$ vs r$_{half}$ (Scatter)\")\n",
    "\n",
    "# Right panel: Scatter plot with error bars\n",
    "axes[1].errorbar(\n",
    "    r_half, M_V,\n",
    "    xerr=[r_half_em, r_half_ep],\n",
    "    yerr=[M_V_em, M_V_ep],\n",
    "    fmt='o', color='orange', mec='k', mew=0.75, ecolor='gray', capsize=3,\n",
    "    label='MW Satellites'\n",
    ")\n",
    "axes[1].invert_yaxis()\n",
    "axes[1].set_xscale('log')\n",
    "axes[1].set_xlabel(\"Half-light Radius (pc)\", fontsize=14)\n",
    "axes[1].set_title(\"MW Satellites: M$_V$ vs r$_{half}$ (Error Bars)\", fontsize=20)\n",
    "axes[1].grid(True)\n",
    "\n",
    "# Adjust tick parameters and axes properties directly\n",
    "axes[1].tick_params(axis='x', labelsize=14, top=True, direction='in')\n",
    "axes[1].tick_params(axis='y', labelsize=14, right=True, direction='in')\n",
    "#axes[1].tick_params(axis='x', which='minor', direction='in')\n",
    "#axes[1].tick_params(axis='y', which='minor', direction='in')\n",
    "\n",
    "# Add legend to the plot\n",
    "# Some useful options:\n",
    "# - loc: location of the legend (e.g., 'upper right', 'lower left', 'best')\n",
    "# - fontsize: size of the legend text\n",
    "# - frameon: whether to draw a frame around the legend\n",
    "axes[1].legend(loc='best', fontsize=14, frameon=True)\n",
    "\n",
    "plt.tight_layout()\n",
    "plt.show()"
   ]
  },
  {
   "cell_type": "markdown",
   "metadata": {
    "id": "vBxwNkdX_Esn"
   },
   "source": [
    "## Hands-on Exercise:\n",
    "\n",
    "Try the following tasks to practice working with different data types in Python:\n",
    "\n",
    "1. **Load the data for M31 satellite galaxies**  \n",
    "   *Hint: Use the following code to load the data:*  \n",
    "   ```python\n",
    "   dsph_m31 = Table.read('https://raw.githubusercontent.com/apace7/local_volume_database/main/data/dwarf_m31.csv')\n",
    "   ```\n",
    "\n",
    "2. **Extract the half-light radius and absolute magnitude columns**  \n",
    "   - Use: `dsph_m31['rhalf_sph_physical']` and `dsph_m31['M_V']`\n",
    "\n",
    "3. **Perform math operations:**  \n",
    "   - Calculate the mean and median of the half-light radius.\n",
    "   - Find the brightest and faintest satellite (minimum and maximum absolute magnitude).\n",
    "\n",
    "4. **Plot the results:**  \n",
    "   - Create a scatter plot of absolute magnitude vs half-light radius for the M31 satellites, similar to the example given above.\n",
    "\n",
    "*Tip: Use functions like `np.mean()`, `np.median()`, `np.min()`, and `np.max()` for your calculations.*"
   ]
  },
  {
   "cell_type": "code",
   "execution_count": null,
   "metadata": {
    "cellView": "form",
    "id": "-sS3B0Vn_Eso"
   },
   "outputs": [],
   "source": [
    "#@title\n",
    "\n",
    "# 1. Load the data for M31 satellite galaxies\n",
    "dsph_m31 = Table.read('https://raw.githubusercontent.com/apace7/local_volume_database/main/data/dwarf_m31.csv')\n",
    "\n",
    "# 2. Extract the half-light radius and absolute magnitude columns\n",
    "r_half_m31 = dsph_m31['rhalf_sph_physical']  # Half-light radius (pc)\n",
    "M_V_m31 = dsph_m31['M_V']                    # Absolute V-band magnitude\n",
    "\n",
    "# 3. Perform math operations\n",
    "mean_r_half = np.mean(r_half_m31)\n",
    "median_r_half = np.median(r_half_m31)\n",
    "brightest_M_V = np.min(M_V_m31)   # Most negative = brightest\n",
    "faintest_M_V = np.max(M_V_m31)    # Most positive = faintest\n",
    "\n",
    "print(\"Mean half-light radius:\", mean_r_half)\n",
    "print(\"Median half-light radius:\", median_r_half)\n",
    "print(\"Brightest satellite (lowest M_V):\", brightest_M_V)\n",
    "print(\"Faintest satellite (highest M_V):\", faintest_M_V)\n",
    "\n",
    "# 4. Plot the results (scatter plot)\n",
    "plt.figure(figsize=(8,6))\n",
    "plt.scatter(r_half_m31, M_V_m31, color='green', marker='o')\n",
    "plt.gca().invert_yaxis()  # Brighter galaxies have lower (more negative) magnitudes\n",
    "plt.gca().set_xscale('log')\n",
    "plt.xlabel(\"Half-light Radius (pc)\")\n",
    "plt.ylabel(\"Absolute Magnitude (M$_V$)\")\n",
    "plt.title(\"M31 Satellite Galaxies: M$_V$ vs Half-light Radius\")\n",
    "plt.show()"
   ]
  },
  {
   "cell_type": "markdown",
   "metadata": {
    "id": "AmgUfb-2vcIq"
   },
   "source": [
    "# **Histogram – Distribution of Galaxy Magnitudes**"
   ]
  },
  {
   "cell_type": "markdown",
   "metadata": {
    "id": "tZGKXIW5viGQ"
   },
   "source": [
    "Histograms are useful for understanding the distribution of a dataset. Here, we examine the frequency of different MW satellite magnitudes.\n",
    "\n",
    "**Why is it important in astronomy?**\n",
    "\n",
    "* Helps categorize galaxies into brightness classes.\n",
    "* Can reveal whether a sample is dominated by bright or faint galaxies."
   ]
  },
  {
   "cell_type": "code",
   "execution_count": null,
   "metadata": {
    "id": "iWQAq6ZKvvcg"
   },
   "outputs": [],
   "source": [
    "# Example 2: Histogram - Distribution of Galaxy Magnitudes\n",
    "# --------------------------------------------------------\n",
    "plt.figure(figsize=(8,6))\n",
    "plt.hist(M_V, bins=10, color='purple', edgecolor='black', alpha=0.7)\n",
    "#plt.hist(M_V, bins=10, color='purple', edgecolor='black', alpha=0.7, cumulative=True)\n",
    "plt.xlabel(\"M$_V$\")\n",
    "plt.ylabel(\"Frequency\")\n",
    "#plt.ylabel(\"N(<M$_V$)\")\n",
    "plt.title(\"Histogram of Galaxy Magnitudes\")\n",
    "plt.gca().invert_xaxis() #follows the convention that brighter stars have lower magnitude values.\n",
    "plt.show()"
   ]
  },
  {
   "cell_type": "markdown",
   "metadata": {
    "id": "jq-iwUh-whJv"
   },
   "source": [
    "Can you think about alternative ways to plot histograms in python❓"
   ]
  },
  {
   "cell_type": "markdown",
   "metadata": {
    "id": "tFvjRGvUw_DZ"
   },
   "source": [
    "# **Heatmap – Stellar Density Distribution**"
   ]
  },
  {
   "cell_type": "markdown",
   "metadata": {
    "id": "N6YmDtT_xBJF"
   },
   "source": [
    "Heatmaps help represent the density of objects in 2D space. Here, we generate random position for stars and plot their stellar density distribution.\n",
    "\n",
    "**Why is it important in astronomy?**\n",
    "\n",
    "* Used to visualize star clusters, galaxy distributions, or gas clouds.\n",
    "* Helps in understanding how stars/gas/etc. are spatially distributed."
   ]
  },
  {
   "cell_type": "code",
   "execution_count": null,
   "metadata": {
    "id": "v0MBiMUUxUXk"
   },
   "outputs": [],
   "source": [
    "# Example 3: Heatmap - Stellar Density Distribution\n",
    "# --------------------------------------------------\n",
    "x = np.random.normal(loc=0, scale=1.0, size=500) #Random number generation using a \"Normal Distribution\" to generate random x, y positions of stars\n",
    "y = np.random.normal(loc=0, scale=1.0, size=500)\n",
    "\n",
    "plt.figure(figsize=(8,6))\n",
    "sns.kdeplot(x=x, y=y, cmap=\"magma\", fill=True) #sns.kdeplot() is used with cmap=\"magma\" to create a kernel density estimate (KDE) plot, which shows regions with high stellar concentrations.\n",
    "#plt.hist2d(x, y, bins=20, cmap=\"magma\")\n",
    "#plt.colorbar(label=\"Number of stars\")\n",
    "plt.xlabel(\"X Position (kpc)\")\n",
    "plt.ylabel(\"Y Position (kpc)\")\n",
    "plt.title(\"Simulated Stellar Density Map\")\n",
    "plt.show()"
   ]
  },
  {
   "cell_type": "markdown",
   "metadata": {
    "id": "jsjFno-DzSVP"
   },
   "source": [
    "**Understanding the Normal Distribution**\n",
    "\n",
    "A normal distribution is described by the probability density function (PDF):\n",
    "\n",
    "\\begin{align}\n",
    "f(x) = \\frac{1}{\\sigma \\sqrt{2\\pi}} e^{-\\frac{(x - \\mu)^2}{2\\sigma^2}}\n",
    "\\end{align}\n",
    "\n",
    "where:\n",
    "\n",
    "* $μ$ (mean) is the center of the distribution (`loc=0` in the code).\n",
    "* $σ$ (standard deviation) determines spread (`scale=1.0` in the code).\n",
    "* The `size=500` parameter specifies that 500 random values are generated.\n",
    "\n",
    "**Why Use a Normal Distribution in Astronomy?**\n",
    "\n",
    "* Many astronomical quantities (e.g., measurement errors, velocities, stellar distributions) naturally follow a normal distribution.\n",
    "* Used in statistical noise modeling for telescope data.\n",
    "* ...\n",
    "\n"
   ]
  },
  {
   "cell_type": "markdown",
   "metadata": {
    "id": "A3ssMlyX1g20"
   },
   "source": [
    "# **3D Visualization – Star Positions in Space**"
   ]
  },
  {
   "cell_type": "markdown",
   "metadata": {
    "id": "4n7FdIAt1i8y"
   },
   "source": [
    "A 3D scatter plot is used to visualize the spatial distribution of stars in three dimensions.\n",
    "\n",
    "**Why is it important in astronomy?**\n",
    "\n",
    "* Helps analyze the structure of star clusters, galaxies, and cosmic filaments.\n",
    "* Can reveal large-scale patterns in the universe."
   ]
  },
  {
   "cell_type": "code",
   "execution_count": null,
   "metadata": {
    "id": "7IeVk3m5Qwie"
   },
   "outputs": [],
   "source": [
    "# Example 4: 3D Visualization - Star Positions in Space\n",
    "# ------------------------------------------------------\n",
    "fig = plt.figure(figsize=(8,6))\n",
    "ax = fig.add_subplot(111, projection='3d')\n",
    "\n",
    "# Generating random 3D positions for 100 stars\n",
    "np.random.seed(42)\n",
    "x = np.random.uniform(-100, 100, 100)\n",
    "y = np.random.uniform(-100, 100, 100)\n",
    "z = np.random.uniform(-100, 100, 100)\n",
    "\n",
    "ax.scatter(x, y, z, color='red', marker='o')\n",
    "ax.set_xlabel(\"X (pc)\")\n",
    "ax.set_ylabel(\"Y (pc)\")\n",
    "ax.set_zlabel(\"Z (pc)\")\n",
    "ax.set_title(\"3D Distribution of Stars\")\n",
    "plt.show()\n"
   ]
  },
  {
   "cell_type": "markdown",
   "metadata": {
    "id": "cuKnnqCl2jQo"
   },
   "source": [
    "**Differences Between `random.uniform` and `random.normal` for Generating Random Numbers**\n",
    "\n",
    "1. Uniform Distribution (`np.random.uniform`)\n",
    "\n",
    "* Generates random numbers where every value within a given range has an equal probability of occurring.\n",
    "* Defined by two parameters: `low` (minimum) and `high` (maximum).\n",
    "* Example:\n",
    "```\n",
    "np.random.uniform(low=0, high=10, size=5)\n",
    "```\n",
    "This generates 5 numbers uniformly distributed between 0 and 10.\n",
    "\n",
    "2. Normal Distribution (`np.random.normal`)\n",
    "\n",
    "* Generates random numbers following a bell-shaped Gaussian distribution.\n",
    "* Defined by two parameters: `loc` (mean) and `scale` (standard deviation).\n",
    "* Example:\n",
    "```\n",
    "np.random.normal(loc=0, scale=1.0, size=5)\n",
    "```\n",
    "This generates 5 numbers centered around 0 with a spread of 1."
   ]
  },
  {
   "cell_type": "markdown",
   "metadata": {
    "id": "YePsR64f4KLl"
   },
   "source": [
    "# **Corner Plots - Visualizing Multidimensional Distributions**"
   ]
  },
  {
   "cell_type": "markdown",
   "metadata": {
    "id": "Rg9UXCGl4SZf"
   },
   "source": [
    "Corner plots are useful for displaying relationships between multiple parameters, often used in Bayesian inference and MCMC sampling in astronomy.\n",
    "\n",
    "\n",
    "**Why use corner plots?**\n",
    "\n",
    "* Helps visualize correlations between parameters (e.g., how stellar mass correlates with luminosity).\n",
    "* Used in MCMC sampling results (e.g., estimating galaxy halo properties).\n",
    "* Provides statistical insights by displaying parameter distributions."
   ]
  },
  {
   "cell_type": "code",
   "execution_count": null,
   "metadata": {
    "id": "B56Ty2vK5DQo"
   },
   "outputs": [],
   "source": [
    "# Simulating stellar parameter distributions\n",
    "np.random.seed(42)\n",
    "num_samples = 500\n",
    "\n",
    "# Generate synthetic data for star properties\n",
    "stellar_mass = np.random.normal(loc=1.0, scale=0.2, size=num_samples)  # Solar masses\n",
    "luminosity = np.random.normal(loc=5.0, scale=1.0, size=num_samples)  # Solar luminosities\n",
    "temperature = np.random.normal(loc=6000, scale=500, size=num_samples)  # Kelvin\n",
    "\n",
    "# Combine into an array\n",
    "data = np.vstack([stellar_mass, luminosity, temperature]).T\n",
    "\n",
    "# Create corner plot\n",
    "figure = corner.corner(data, labels=[\"Mass (M$_{\\odot}$)\", \"Luminosity (L$_{\\odot}$)\", \"Temperature (K)\"],\n",
    "                       quantiles=[0.16, 0.5, 0.84], show_titles=True, title_kwargs={\"fontsize\": 9})\n",
    "\n",
    "plt.show()"
   ]
  },
  {
   "cell_type": "markdown",
   "metadata": {
    "id": "0khHVZi_15zT"
   },
   "source": [
    "# **Conclusion**\n",
    "These visualization techniques help astronomers interpret and analyze vast datasets efficiently. From simple scatter plots to complex 3D models, these tools provide insights into stellar distributions, galaxy morphology, and more. 🚀"
   ]
  }
 ],
 "metadata": {
  "colab": {
   "provenance": []
  },
  "kernelspec": {
   "display_name": "astro_workshop_env",
   "language": "python",
   "name": "python3"
  },
  "language_info": {
   "codemirror_mode": {
    "name": "ipython",
    "version": 3
   },
   "file_extension": ".py",
   "mimetype": "text/x-python",
   "name": "python",
   "nbconvert_exporter": "python",
   "pygments_lexer": "ipython3",
   "version": "3.11.2"
  }
 },
 "nbformat": 4,
 "nbformat_minor": 0
}
