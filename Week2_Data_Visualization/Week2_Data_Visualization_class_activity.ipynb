{
 "cells": [
  {
   "cell_type": "markdown",
   "metadata": {},
   "source": [
    "📝 This notebook was originally prepared by Alex Garcia. It has been adapted for the Coding in Astronomy workshop series for instructional purposes. Full credit goes to Alex for the original material and structure."
   ]
  },
  {
   "cell_type": "markdown",
   "metadata": {
    "id": "mGDFqXvetkf8"
   },
   "source": [
    "# **Week 2: Data Visualization in Astronomy (Class Activity)**"
   ]
  },
  {
   "cell_type": "markdown",
   "metadata": {
    "id": "jA5GjqhWoInZ"
   },
   "source": [
    "## Step 1: Download the zip from Google Drive\n",
    "\n",
    "\n",
    "\n",
    "*   Use the file ID from your shared Google Drive link.\n",
    "*   gdown handles large files automatically.\n",
    "* Save the zip locally in /content.\n"
   ]
  },
  {
   "cell_type": "code",
   "execution_count": null,
   "metadata": {
    "id": "3Ngvlx_Gn1z3"
   },
   "outputs": [],
   "source": [
    "# ======================================\n",
    "# Step 1: Download the zip from Google Drive\n",
    "# ======================================\n",
    "import gdown\n",
    "\n",
    "# File ID from your shared link\n",
    "file_id = '1a_Dm48Z6af0LLwlcubDwBRmILc2UTt0t'\n",
    "\n",
    "# Output path in Colab\n",
    "zip_path = '/content/rotate_video.zip'\n",
    "\n",
    "# Download the file (handles large files)\n",
    "gdown.download(f'https://drive.google.com/uc?id={file_id}', zip_path, quiet=False)\n"
   ]
  },
  {
   "cell_type": "markdown",
   "metadata": {
    "id": "tb6KcjMCoKaG"
   },
   "source": [
    "## Step 2: Unzip the file\n",
    "\n",
    "\n",
    "*   Extract all images from the zip to a folder (/content/imgs/rotate_video).\n",
    "*  Count the number of extracted images to verify the extraction."
   ]
  },
  {
   "cell_type": "code",
   "execution_count": null,
   "metadata": {
    "id": "AF9wrQM8oDDO"
   },
   "outputs": [],
   "source": [
    "# ======================================\n",
    "# Step 2: Unzip the file\n",
    "# ======================================\n",
    "import zipfile\n",
    "import os\n",
    "\n",
    "extract_dir = '/content/imgs/rotate_video/rotate_video/'\n",
    "with zipfile.ZipFile(zip_path, 'r') as zip_ref:\n",
    "    zip_ref.extractall(extract_dir)\n",
    "\n",
    "# Verify extraction\n",
    "num_files = len([f for f in os.listdir(extract_dir) if f.lower().endswith(('.png', '.jpg', '.jpeg'))])\n",
    "print(f\"Number of images extracted: {num_files}\")"
   ]
  },
  {
   "cell_type": "markdown",
   "metadata": {
    "id": "ym36vKBIqZis"
   },
   "source": [
    "## Step 3: Create a video from all images\n",
    "\n",
    "*   Collect all image file paths.\n",
    "*   Sort images numerically (assumes filenames like 000.png, 001.png, …).\n",
    "\n",
    "*   Write a video (output_video.mp4) at 30 fps using all images."
   ]
  },
  {
   "cell_type": "code",
   "execution_count": null,
   "metadata": {
    "id": "TZSneioIqccj"
   },
   "outputs": [],
   "source": [
    "# ======================================\n",
    "# Step 3: Create video from images\n",
    "# ======================================\n",
    "import imageio\n",
    "\n",
    "output_video_path = '/content/output_video.mp4'\n",
    "\n",
    "# Collect image paths\n",
    "image_files = [f for f in os.listdir(extract_dir)\n",
    "               if os.path.isfile(os.path.join(extract_dir, f))\n",
    "               and f.lower().endswith(('.png', '.jpg', '.jpeg'))]\n",
    "\n",
    "# Sort images numerically if they are named like 000.png, 001.png, ...\n",
    "image_files = sorted(image_files, key=lambda x: int(''.join(filter(str.isdigit, x))))\n",
    "\n",
    "# Write video\n",
    "with imageio.get_writer(output_video_path, fps=30, codec='libx264') as writer:\n",
    "    for fname in image_files:\n",
    "        img = imageio.imread(os.path.join(extract_dir, fname))\n",
    "        writer.append_data(img)\n",
    "\n",
    "print(f\"✅ Video created: {output_video_path}\")"
   ]
  },
  {
   "cell_type": "markdown",
   "metadata": {
    "id": "AWxTkue3q7UE"
   },
   "source": [
    "## Step 4: (Hands-on activity) Create a video using every N-th image\n",
    "\n",
    "\n",
    "*   Sometimes we want to reduce the number of frames in the video.\n",
    "*   N determines the step size. For example, N = 5 uses every 5th image.\n",
    "\n",
    "\n",
    "*   Write a new video (output_video_N_skip.mp4) with fewer frames\n",
    "\n",
    "\n"
   ]
  },
  {
   "cell_type": "code",
   "execution_count": null,
   "metadata": {
    "cellView": "form",
    "id": "klI-5sj7q8ZL"
   },
   "outputs": [],
   "source": [
    "# @title\n",
    "# ======================================\n",
    "# Step 4: Create video from images (skip N images)\n",
    "# ======================================\n",
    "\n",
    "output_video_path = '/content/output_video_N_skip.mp4'\n",
    "N = 5  # Skip N images at each step\n",
    "\n",
    "# Collect image paths\n",
    "image_files = [f for f in os.listdir(extract_dir)\n",
    "               if os.path.isfile(os.path.join(extract_dir, f))\n",
    "               and f.lower().endswith(('.png', '.jpg', '.jpeg'))]\n",
    "\n",
    "# Sort images numerically if they are named like 000.png, 001.png, ...\n",
    "image_files = sorted(image_files, key=lambda x: int(''.join(filter(str.isdigit, x))))\n",
    "\n",
    "# Take every N-th image\n",
    "image_files = image_files[::N]\n",
    "\n",
    "print(f\"Number of images used in video: {len(image_files)}\")\n",
    "\n",
    "# Write video\n",
    "with imageio.get_writer(output_video_path, fps=30, codec='libx264') as writer:\n",
    "    for fname in image_files:\n",
    "        img = imageio.imread(os.path.join(extract_dir, fname))\n",
    "        writer.append_data(img)\n",
    "\n",
    "print(f\"✅ Video created: {output_video_path}\")"
   ]
  },
  {
   "cell_type": "code",
   "execution_count": null,
   "metadata": {
    "id": "PjPu00eSR35X"
   },
   "outputs": [],
   "source": []
  }
 ],
 "metadata": {
  "colab": {
   "provenance": []
  },
  "kernelspec": {
   "display_name": "astro_workshop_env",
   "language": "python",
   "name": "python3"
  },
  "language_info": {
   "codemirror_mode": {
    "name": "ipython",
    "version": 3
   },
   "file_extension": ".py",
   "mimetype": "text/x-python",
   "name": "python",
   "nbconvert_exporter": "python",
   "pygments_lexer": "ipython3",
   "version": "3.11.2"
  }
 },
 "nbformat": 4,
 "nbformat_minor": 0
}
