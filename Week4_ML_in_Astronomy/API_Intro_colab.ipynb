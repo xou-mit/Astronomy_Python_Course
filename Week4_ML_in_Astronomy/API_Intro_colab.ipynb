{
 "cells": [
  {
   "cell_type": "markdown",
   "id": "7b708dd4",
   "metadata": {},
   "source": [
    "# Introduction to Using Gemini API \n",
    "This notebook teaches you how to interact with **Google's Gemini API** to build AI-powered tools and prompt-based agents.\n",
    "\n",
    "Students will:\n",
    "- Understand what an API is and how to connect to one securely.\n",
    "- Learn how to send prompts to a large language model (LLM) and receive responses.\n",
    "- Explore astronomy-focused examples such as describing celestial objects.\n",
    "\n",
    "**Note:** This notebook is designed for **Google Colab**. Some features (like secret management) only work there."
   ]
  },
  {
   "cell_type": "markdown",
   "id": "ebd13f86",
   "metadata": {},
   "source": [
    "## Setting up your API key\n",
    "Before using the Gemini API, you need an API key from **Google AI Studio**.\n",
    "\n",
    "**Steps:**\n",
    "1. Go to [https://makersuite.google.com/app/apikey](https://makersuite.google.com/app/apikey).\n",
    "2. Create a key (requires a Google account).\n",
    "3. In Colab, click the **🔑 key icon** on the left panel → *Secrets* → Add your key as:\n",
    "   ```\n",
    "   Name: GOOGLE_API_KEY\n",
    "   Value: (your API key here)\n",
    "   ```\n",
    "4. Run the cell below to load it into your environment."
   ]
  },
  {
   "cell_type": "code",
   "execution_count": null,
   "id": "291f0d25",
   "metadata": {},
   "outputs": [],
   "source": [
    "# Import and configure Gemini SDK\n",
    "import google.generativeai as genai\n",
    "from google.colab import userdata\n",
    "\n",
    "# Retrieve API key from Colab secrets\n",
    "GOOGLE_API_KEY = userdata.get('GOOGLE_API_KEY')\n",
    "genai.configure(api_key=GOOGLE_API_KEY)\n",
    "print('Gemini API configured successfully!')"
   ]
  },
  {
   "cell_type": "markdown",
   "id": "80d0b1a5",
   "metadata": {},
   "source": [
    "## Initializing the Gemini Model\n",
    "We'll use the **Gemini 2.5 Flash Lite** model.\n",
    "\n",
    "This model can handle both text generation and reasoning tasks. You can replace it later with a different model (like `'gemini-1.5-pro'`) for advanced use."
   ]
  },
  {
   "cell_type": "code",
   "execution_count": null,
   "id": "bf5e4e60",
   "metadata": {},
   "outputs": [],
   "source": [
    "gemini_model = genai.GenerativeModel('gemini-2.5-flash-lite')\n",
    "print('Gemini model initialized!')"
   ]
  },
  {
   "cell_type": "markdown",
   "id": "09d0fe5d",
   "metadata": {},
   "source": [
    "## Your First Prompt: Describing a Celestial Object\n",
    "Let's ask the model to describe a galaxy. Prompts are natural-language instructions sent to the model. Think of them as questions or requests you give to the AI."
   ]
  },
  {
   "cell_type": "code",
   "execution_count": null,
   "id": "ce8c131b",
   "metadata": {},
   "outputs": [],
   "source": [
    "prompt = 'Describe the Andromeda Galaxy (M31) in three sentences, highlighting one scientific fact.'\n",
    "response = gemini_model.generate_content(prompt)\n",
    "print('Model response:\\n')\n",
    "print(response.text)"
   ]
  },
  {
   "cell_type": "markdown",
   "id": "9223ab19",
   "metadata": {},
   "source": [
    "## Building a Simple Astronomy Agent\n",
    "We'll create a small Python function that asks the Gemini API to describe **any celestial object** entered by the user.\n",
    "\n",
    "Try changing the input object to see different outputs."
   ]
  },
  {
   "cell_type": "code",
   "execution_count": null,
   "id": "3f33b146",
   "metadata": {},
   "outputs": [],
   "source": [
    "def get_celestial_info(object_name):\n",
    "    '''Use Gemini API to describe a celestial object.'''\n",
    "    prompt = f'Provide a short description and 3 interesting facts about {object_name}.'\n",
    "    response = gemini_model.generate_content(prompt)\n",
    "    return response.text\n",
    "\n",
    "# Example usage\n",
    "object_name = 'Mars'\n",
    "print(f'Information about {object_name}:\\n')\n",
    "print(get_celestial_info(object_name))"
   ]
  },
  {
   "cell_type": "markdown",
   "id": "0f519277",
   "metadata": {},
   "source": [
    "## Prompt Engineering Basics\n",
    "A good **prompt** is specific and structured.\n",
    "\n",
    "For example, compare these two prompts:\n",
    "- *Bad prompt:* \"Tell me about galaxies.\"\n",
    "- *Good prompt:* \"List three types of galaxies and describe one unique feature of each in one sentence.\"\n",
    "\n",
    "Let's try sending a structured prompt requesting **JSON output** (useful for coding)."
   ]
  },
  {
   "cell_type": "code",
   "execution_count": null,
   "id": "74481f1e",
   "metadata": {},
   "outputs": [],
   "source": [
    "structured_prompt = (\n",
    "    'Return a JSON object with the following fields: '\n",
    "    'name, type, distance_lightyears, and three_facts. '\n",
    "    'Object: The Sombrero Galaxy (M104).'\n",
    ")\n",
    "response = gemini_model.generate_content(structured_prompt)\n",
    "print(response.text)"
   ]
  },
  {
   "cell_type": "markdown",
   "id": "c90ab883",
   "metadata": {},
   "source": [
    "## Using the Model with a List of Celestial Objects\n",
    "You can loop over multiple objects to create summaries or compare facts about them.\n",
    "\n",
    "Below, we create a small 'catalog' and query the model for each entry."
   ]
  },
  {
   "cell_type": "code",
   "execution_count": null,
   "id": "fc011447",
   "metadata": {},
   "outputs": [],
   "source": [
    "catalog = ['Mars', 'Jupiter', 'Andromeda Galaxy', 'Orion Nebula']\n",
    "for obj in catalog:\n",
    "    print(f'\\n--- {obj} ---')\n",
    "    print(get_celestial_info(obj))"
   ]
  },
  {
   "cell_type": "markdown",
   "id": "9b9b1b91",
   "metadata": {},
   "source": [
    "## Summarizing Research Papers from URLs\n",
    "In this section, we'll show how to fetch and summarize an astronomy paper using the Gemini API.\n",
    "\n",
    "**Note:** For simplicity, we’ll fetch the abstract text (not the full paper). You can experiment with papers from **arXiv**, **NASA ADS**, or **Nature Astronomy**.\n",
    "\n",
    "⚠️ Always verify AI summaries, they can be incomplete or imprecise."
   ]
  },
  {
   "cell_type": "code",
   "execution_count": null,
   "id": "88f5f544",
   "metadata": {},
   "outputs": [],
   "source": [
    "import requests\n",
    "\n",
    "def summarize_paper_from_url(url):\n",
    "    '''Fetches a paper abstract or text and summarizes it using Gemini.'''\n",
    "    print(f'Fetching paper from: {url}\\n')\n",
    "    try:\n",
    "        response = requests.get(url, timeout=10)\n",
    "        response.raise_for_status()\n",
    "        text = response.text[:4000]  # limit text length for API\n",
    "        prompt = f'Summarize the following astronomy research paper:\\n{text}'\n",
    "        summary = gemini_model.generate_content(prompt)\n",
    "        print('--- Summary ---')\n",
    "        print(summary.text)\n",
    "    except Exception as e:\n",
    "        print('Error fetching or summarizing paper:', e)\n",
    "\n",
    "# Example: Try an arXiv abstract page\n",
    "example_url = 'https://arxiv.org/abs/2403.04839'\n",
    "summarize_paper_from_url(example_url)"
   ]
  },
  {
   "cell_type": "markdown",
   "id": "9dd11f98",
   "metadata": {},
   "source": [
    "Check out this Python bot for daily arXiv reviews (keyword filtering + Slack summaries): [DailyArXiv GitHub repository](https://github.com/Niusha951/DailyArXiv)."
   ]
  },
  {
   "cell_type": "markdown",
   "id": "f6be56ee",
   "metadata": {},
   "source": [
    "## Ethics and Best Practices\n",
    "- **Always verify facts**, AI models can produce incorrect or outdated information.\n",
    "- Avoid sharing sensitive or private data in prompts.\n",
    "- Use the model to **complement** scientific learning, not as a replacement for textbooks or research papers."
   ]
  },
  {
   "cell_type": "markdown",
   "id": "ba3abefd",
   "metadata": {},
   "source": [
    "Next steps: Try designing your own astronomy assistant!"
   ]
  }
 ],
 "metadata": {
  "language_info": {
   "name": "python"
  }
 },
 "nbformat": 4,
 "nbformat_minor": 5
}
