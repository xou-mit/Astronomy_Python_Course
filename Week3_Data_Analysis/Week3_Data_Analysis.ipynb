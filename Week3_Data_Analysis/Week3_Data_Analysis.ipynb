{
  "cells": [
    {
      "cell_type": "markdown",
      "metadata": {
        "id": "vT9M9z2QKepB"
      },
      "source": [
        "# **Week 3: Data Analysis in Astronomy**"
      ]
    },
    {
      "cell_type": "code",
      "execution_count": null,
      "metadata": {
        "id": "ZAJMJXZML3DK"
      },
      "outputs": [],
      "source": [
        "# Import necessary libraries\n",
        "import numpy as np\n",
        "import matplotlib.pyplot as plt\n",
        "from astropy.table import Table\n",
        "import scipy.optimize as opt\n",
        "from scipy.stats import linregress"
      ]
    },
    {
      "cell_type": "markdown",
      "metadata": {
        "id": "JSn4YViDQo4o"
      },
      "source": [
        "# **Linear Regression**"
      ]
    },
    {
      "cell_type": "markdown",
      "metadata": {
        "id": "z-PFB9-CQo4p"
      },
      "source": [
        "Linear regression is used to determine the relationship between two variables by fitting a straight line to the data.\n"
      ]
    },
    {
      "cell_type": "markdown",
      "metadata": {
        "id": "3ZWFj8z_Qo4p"
      },
      "source": [
        "In this example we fit a straight line to the relation between absolute V-band magnitude (M_V) and the half-light radius (r_half) of Milky Way satellite galaxies.\n",
        "Because galaxy sizes span orders of magnitude, we take log10(r_half) so the relation becomes approximately linear. Here are the steps we take:\n",
        "- Load the dwarf galaxy table and extract r_half and M_V,\n",
        "- Filter out invalid or non-positive radii, then compute log10(r_half),\n",
        "- Use `scipy.stats.linregress` to fit `M_V = slope * log10(r_half) + intercept`,\n",
        "- Inspect slope, intercept, correlation coefficient (r) and p-value to assess the fit,\n",
        "- Plot the data (r on a log x-axis) with the best-fit line and show a residuals panel to check for systematic deviations.\n",
        "  "
      ]
    },
    {
      "cell_type": "code",
      "execution_count": null,
      "metadata": {
        "id": "6k9Sz4HxQo4q"
      },
      "outputs": [],
      "source": [
        "# Example 1: Linear Regression - Absolute Magnitude vs Half-light Radius for Milky Way Satellites\n",
        "# ------------------------------------------------------------------------------------------------\n",
        "\n",
        "# Read the dwarf galaxy data from the online database\n",
        "dsph_mw = Table.read('https://raw.githubusercontent.com/apace7/local_volume_database/main/data/dwarf_mw.csv')\n",
        "\n",
        "# Extract the half-light radius and absolute magnitude columns\n",
        "r_half = dsph_mw['rhalf_sph_physical']  # Half-light radius (pc)\n",
        "M_V = dsph_mw['M_V']                    # Absolute V-band magnitude\n",
        "\n",
        "# Filter valid data (data cleaning)\n",
        "mask = np.isfinite(r_half) & np.isfinite(M_V) & (r_half > 0)\n",
        "r = np.array(r_half[mask], dtype=float)\n",
        "M = np.array(M_V[mask], dtype=float)\n",
        "log_r = np.log10(r)\n",
        "\n",
        "# Perform linear regression: M_V = slope * log10(r) + intercept\n",
        "slope, intercept, r_value, p_value, std_err = linregress(log_r, M)\n",
        "\n",
        "print(f\"slope = {slope:.4f}, intercept = {intercept:.4f}, r = {r_value:.4f}, p = {p_value:.3e}, stderr = {std_err:.4f}\")\n",
        "\n",
        "# Plot data and best-fit line (x-axis shown in log scale)\n",
        "plt.figure(figsize=(8,6))\n",
        "plt.scatter(r, M, color='blue', label='Data')\n",
        "x_fit = np.logspace(log_r.min(), log_r.max(), 10)\n",
        "y_fit = slope * np.log10(x_fit) + intercept\n",
        "plt.plot(x_fit, y_fit, color='red', lw=2, label=f'Fit: M_V = {slope:.3f} log10(r) + {intercept:.2f}')\n",
        "plt.xscale('log')\n",
        "plt.gca().invert_yaxis()\n",
        "plt.xlabel(\"Half-light Radius (pc)\")\n",
        "plt.ylabel(\"Absolute Magnitude (M$_V$)\")\n",
        "plt.title(\"MW Satellites: M$_V$ vs r$_{half}$\")\n",
        "plt.legend()\n",
        "plt.grid(True, which='both', ls='--', alpha=0.4)\n",
        "\n",
        "# Residuals plot\n",
        "plt.figure(figsize=(8,3))\n",
        "resid = M - (slope * log_r + intercept)\n",
        "plt.axhline(0, color='k', lw=0.8)\n",
        "plt.scatter(r, resid, color='gray')\n",
        "plt.xscale('log')\n",
        "plt.xlabel(\"Half-light Radius (pc)\")\n",
        "plt.ylabel(\"Residual (M$_V$)\")\n",
        "plt.title(\"Residuals of fit\")\n",
        "plt.grid(True, which='both', ls='--', alpha=0.4)"
      ]
    },
    {
      "cell_type": "markdown",
      "metadata": {
        "id": "a6V-JAhuKl3L"
      },
      "source": [
        "**Class activity: Distance Modulus**"
      ]
    },
    {
      "cell_type": "markdown",
      "metadata": {
        "id": "ozB9uVCQQo4r"
      },
      "source": [
        "\n",
        "In astronomy, we use the distance modulus equation to relate the apparent magnitude (m) and absolute magnitude (M) of a star to its distance (d) in parsecs:\n",
        "\n",
        "\\begin{equation}\n",
        "m - M = 5 \\log_{10}(d) - 5 \\tag{1}\n",
        "\\end{equation}\n",
        "\n",
        "Rearranging for distance:\n",
        "\n",
        "\\begin{equation}\n",
        "d = 10^{\\frac{m - M + 5}{5}} \\tag{2}\n",
        "\\end{equation}\n",
        "\n",
        "\n",
        "Your tasks:\n",
        "\n",
        "1. Write a function to compute distances from the provided arrays `apparent_magnitude` and `absolute_magnitude` using the distance modulus formula.\n",
        "```\n",
        "absolute_magnitude = np.array([-1.5, 0.0, 1.0, 2.5, 4.0])\n",
        "apparent_magnitude = np.array([5.2, 7.1, 8.5, 11.0, 12.8])\n",
        "```\n",
        "2. Convert the distances to `log10(distance)`; this makes the relation linear.\n",
        "3. Use `scipy.stats.linregress` to fit a line to `log10(distance)` as a function of `apparent_magnitude`. Which variable is x and which is y?\n",
        "4. Plot the data points and the best-fit line. Label axes and show the fitted equation on the plot.\n",
        "5. Compute and plot residuals (data minus model). Are residuals randomly distributed?\n",
        "\n",
        "Write your code to answer each step.\n"
      ]
    },
    {
      "cell_type": "code",
      "execution_count": null,
      "metadata": {
        "cellView": "form",
        "id": "bvfLhv0UL92Q"
      },
      "outputs": [],
      "source": [
        "# @title\n",
        "# Example 2: Linear Regression - Distance Modulus Relation\n",
        "# ---------------------------------------------------------\n",
        "def distance_modulus(m, M):\n",
        "    return 10 ** ((m - M + 5) / 5)  # Returns distance in parsecs\n",
        "\n",
        "# Generate synthetic data\n",
        "absolute_magnitude = np.array([-1.5, 0.0, 1.0, 2.5, 4.0])\n",
        "apparent_magnitude = np.array([5.2, 7.1, 8.5, 11.0, 12.8])\n",
        "\n",
        "# Step 1: compute distances\n",
        "distance = distance_modulus(apparent_magnitude, absolute_magnitude)\n",
        "\n",
        "# Step 2: convert to log10(distance)\n",
        "log_distance = np.log10(distance)\n",
        "\n",
        "# Step 3: linear regression (x = apparent magnitude, y = log10(distance))\n",
        "slope, intercept, r_value, p_value, std_err = linregress(apparent_magnitude, log_distance)\n",
        "print(f\"slope = {slope:.4f}, intercept = {intercept:.4f}, r = {r_value:.4f}, p = {p_value:.3e}\")\n",
        "\n",
        "\n",
        "# Step 4: plot data and best-fit line\n",
        "plt.figure(figsize=(8,6))\n",
        "plt.scatter(apparent_magnitude, log_distance, label='Data')\n",
        "x_fit = np.linspace(apparent_magnitude.min(), apparent_magnitude.max(), 200)\n",
        "y_fit = slope * x_fit + intercept\n",
        "plt.plot(x_fit, y_fit, color='red', label=f'Fit: log10(d) = {slope:.3f} m + {intercept:.3f}')\n",
        "plt.xlabel(\"Apparent Magnitude (m)\")\n",
        "plt.ylabel(\"log10(Distance [pc])\")\n",
        "plt.title(\"Distance Modulus: log10(d) vs Apparent Magnitude\")\n",
        "plt.legend()\n",
        "plt.grid(alpha=0.3)\n",
        "\n",
        "# Step 5: residuals\n",
        "resid = log_distance - (slope * apparent_magnitude + intercept)\n",
        "plt.figure(figsize=(8,3))\n",
        "plt.axhline(0, color='k', lw=0.8)\n",
        "plt.scatter(apparent_magnitude, resid)\n",
        "plt.xlabel(\"Apparent Magnitude (m)\")\n",
        "plt.ylabel(\"Residual (log10 d)\")\n",
        "plt.title(\"Residuals of fit\")\n",
        "plt.grid(alpha=0.3)\n"
      ]
    }
  ],
  "metadata": {
    "colab": {
      "provenance": []
    },
    "kernelspec": {
      "display_name": "astro_workshop_env",
      "language": "python",
      "name": "python3"
    },
    "language_info": {
      "codemirror_mode": {
        "name": "ipython",
        "version": 3
      },
      "file_extension": ".py",
      "mimetype": "text/x-python",
      "name": "python",
      "nbconvert_exporter": "python",
      "pygments_lexer": "ipython3",
      "version": "3.11.2"
    }
  },
  "nbformat": 4,
  "nbformat_minor": 0
}
