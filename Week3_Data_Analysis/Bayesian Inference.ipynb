{
  "cells": [
    {
      "cell_type": "markdown",
      "metadata": {
        "id": "iIbTqhCVTQ2R"
      },
      "source": [
        "# **Bayesian Inference - Estimating a Star’s Mass**\n",
        "Bayesian inference updates our belief about a parameter (e.g., stellar mass) given prior knowledge and new observations using **Bayes’ Theorem**:\n",
        "\n",
        "\\begin{align}\n",
        "P(H|D) = \\frac{P(D|H) P(H)}{P(D)}\n",
        "\\end{align}\n",
        "\n",
        "where:\n",
        "\n",
        "* P(H∣D) = **Posterior** (updated probability after seeing data)\n",
        "* P(D∣H) = **Likelihood** (probability of data given hypothesis)\n",
        "* P(H) = **Prior** (initial belief before seeing data)\n",
        "* P(D) = **Normalization constant** (total probability of data)\n",
        "\n",
        "**Why Use Bayesian Methods?**\n",
        "\n",
        "* Allows incorporation of prior knowledge.\n",
        "* Helps refine estimates in cases of incomplete or noisy data."
      ]
    },
    {
      "cell_type": "code",
      "execution_count": 8,
      "metadata": {},
      "outputs": [
        {
          "data": {
            "image/jpeg": "[encoded data removed]",
            "text/html": [
              "\n",
              "        <iframe\n",
              "            width=\"800\"\n",
              "            height=\"450\"\n",
              "            src=\"https://www.youtube.com/embed/HZGCoVF3YvM\"\n",
              "            frameborder=\"0\"\n",
              "            allowfullscreen\n",
              "            \n",
              "        ></iframe>\n",
              "        "
            ],
            "text/plain": [
              "<IPython.lib.display.YouTubeVideo at 0x1100117d0>"
            ]
          },
          "metadata": {},
          "output_type": "display_data"
        }
      ],
      "source": [
        "import numpy as np\n",
        "import matplotlib.pyplot as plt\n",
        "from IPython.display import YouTubeVideo, display\n",
        "\n",
        "display(YouTubeVideo(\"HZGCoVF3YvM\", width=800, height=450))"
      ]
    },
    {
      "cell_type": "markdown",
      "metadata": {},
      "source": [
        "## **Mass-Luminosity Relation:**\n",
        "\n",
        "For main-sequence stars:\n",
        "\\begin{align}\n",
        "L \\propto M^{3.5}\n",
        "\\end{align}\n",
        "\n",
        "This notebook shows a simple Bayesian update to estimate a star's mass given an observed luminosity.\n",
        "\n",
        "Key pieces:\n",
        "- Prior: your initial belief about mass (we demonstrate several priors).\n",
        "- Likelihood: probability of the observed luminosity given a mass model, here using L = M^{3.5} with Gaussian scatter (sigma set by `likelihood_std_dev`).\n",
        "- Posterior: proportional to prior × likelihood; normalized to integrate to 1.\n",
        "\n",
        "What to look for:\n",
        "- How different priors change the posterior.\n",
        "- How the likelihood width (measurement uncertainty) influences the posterior.\n"
      ]
    },
    {
      "cell_type": "markdown",
      "metadata": {
        "id": "17b45089"
      },
      "source": [
        "## Example 1: Bayesian Inference with Prior 1 (Normal Distribution)"
      ]
    },
    {
      "cell_type": "code",
      "execution_count": null,
      "metadata": {
        "colab": {
          "base_uri": "https://localhost:8080/",
          "height": 487
        },
        "id": "1a4d528c",
        "outputId": "ccbe6b54-fff2-4279-bb55-10a9a95320b1"
      },
      "outputs": [],
      "source": [
        "# Prior 1: Normal distribution\n",
        "mass_prior_1 = np.random.normal(1, 0.2, 10000)  # Normal distribution, mean=1, std=0.2\n",
        "\n",
        "# Likelihood: Follows the mass-luminosity relation L ~ M^3.5\n",
        "luminosity_observed = 5.0  # Assume observed luminosity is 5 times the Sun's\n",
        "likelihood_std_dev = 0.5 # Standard deviation for the likelihood\n",
        "\n",
        "# Calculate posterior for prior 1\n",
        "valid_mass_1 = mass_prior_1[mass_prior_1 > 0]\n",
        "likelihood_1 = np.exp(-0.5 * ((luminosity_observed - valid_mass_1**3.5)**2) / likelihood_std_dev**2)\n",
        "posterior_1 = likelihood_1 * valid_mass_1  # Bayesian update\n",
        "if np.sum(posterior_1) > 0:\n",
        "  posterior_1 /= np.sum(posterior_1)  # Normalize\n",
        "else:\n",
        "  posterior_1 = np.zeros_like(valid_mass_1)\n",
        "\n",
        "# Plot posterior distribution for prior 1\n",
        "plt.figure(figsize=(8, 5))\n",
        "plt.hist(valid_mass_1, bins=50, weights=posterior_1, color='green', alpha=0.7, label='Prior 1 (Normal, mean=1, std=0.2)')\n",
        "plt.xlabel(\"Mass (Solar Masses)\")\n",
        "plt.xlim(1, 2)\n",
        "plt.ylabel(\"Probability Density\")\n",
        "plt.title(\"Bayesian Inference of Star Mass with Prior 1\")\n",
        "plt.legend()\n",
        "plt.show()"
      ]
    },
    {
      "cell_type": "markdown",
      "metadata": {
        "id": "84478a68"
      },
      "source": [
        "## Example 2: Bayesian Inference with Prior 2 (Uniform Distribution)"
      ]
    },
    {
      "cell_type": "code",
      "execution_count": null,
      "metadata": {
        "colab": {
          "base_uri": "https://localhost:8080/",
          "height": 487
        },
        "id": "a6d4b8aa",
        "outputId": "9a3161ce-ee7b-4d90-b3a5-2e67c38f1466"
      },
      "outputs": [],
      "source": [
        "# Prior 2: Uniform distribution\n",
        "mass_prior_2 = np.random.uniform(0.5, 2.0, 10000) # Uniform distribution, min=0.5, max=2.0\n",
        "\n",
        "# Calculate posterior for prior 2\n",
        "valid_mass_2 = mass_prior_2[mass_prior_2 > 0]\n",
        "likelihood_2 = np.exp(-0.5 * ((luminosity_observed - valid_mass_2**3.5)**2) / likelihood_std_dev**2)\n",
        "posterior_2 = likelihood_2 * valid_mass_2  # Bayesian update\n",
        "if np.sum(posterior_2) > 0:\n",
        "  posterior_2 /= np.sum(posterior_2)  # Normalize\n",
        "else:\n",
        "  posterior_2 = np.zeros_like(valid_mass_2)\n",
        "\n",
        "# Plot posterior distribution for prior 2\n",
        "plt.figure(figsize=(8, 5))\n",
        "plt.hist(valid_mass_2, bins=50, weights=posterior_2, color='blue', alpha=0.7, label='Prior 2 (Uniform, min=0.5, max=2.0)')\n",
        "#plt.hist(valid_mass_1, bins=50, weights=posterior_1, color='green', alpha=0.7, label='Prior 1 (Normal, mean=1, std=0.2)')\n",
        "plt.xlabel(\"Mass (Solar Masses)\")\n",
        "plt.xlim(1, 2)\n",
        "plt.ylabel(\"Probability Density\")\n",
        "plt.title(\"Bayesian Inference of Star Mass with Prior 2\")\n",
        "plt.legend()\n",
        "plt.show()"
      ]
    },
    {
      "cell_type": "markdown",
      "metadata": {
        "id": "29b60186"
      },
      "source": [
        "## Example 3: Bayesian Inference with Prior 3 (Normal Distribution)"
      ]
    },
    {
      "cell_type": "code",
      "execution_count": null,
      "metadata": {
        "colab": {
          "base_uri": "https://localhost:8080/",
          "height": 487
        },
        "id": "16784372",
        "outputId": "fba2298c-6e5b-486f-c2d0-a7ea2587ee03"
      },
      "outputs": [],
      "source": [
        "# Prior 3: Normal distribution\n",
        "mass_prior_3 = np.random.normal(1.2, 0.1, 10000) # Normal distribution, mean=1.2, std=0.1\n",
        "\n",
        "# Calculate posterior for prior 3\n",
        "valid_mass_3 = mass_prior_3[mass_prior_3 > 0]\n",
        "likelihood_3 = np.exp(-0.5 * ((luminosity_observed - valid_mass_3**3.5)**2) / likelihood_std_dev**2)\n",
        "posterior_3 = likelihood_3 * valid_mass_3  # Bayesian update\n",
        "if np.sum(posterior_3) > 0:\n",
        "  posterior_3 /= np.sum(posterior_3)  # Normalize\n",
        "else:\n",
        "  posterior_3 = np.zeros_like(valid_mass_3)\n",
        "\n",
        "# Plot posterior distribution for prior 3\n",
        "plt.figure(figsize=(8, 5))\n",
        "plt.hist(valid_mass_3, bins=50, weights=posterior_3, color='red', alpha=0.7, label='Prior 3 (Normal, mean=1.2, std=0.1)')\n",
        "plt.xlabel(\"Mass (Solar Masses)\")\n",
        "plt.xlim(1, 2)\n",
        "plt.ylabel(\"Probability Density\")\n",
        "plt.title(\"Bayesian Inference of Star Mass with Prior 3\")\n",
        "plt.legend()\n",
        "plt.show()"
      ]
    },
    {
      "cell_type": "markdown",
      "metadata": {
        "id": "bb1e617f"
      },
      "source": [
        "## Combined Posterior Distributions"
      ]
    },
    {
      "cell_type": "code",
      "execution_count": null,
      "metadata": {
        "colab": {
          "base_uri": "https://localhost:8080/",
          "height": 575
        },
        "id": "c9aecbc4",
        "outputId": "48514796-be15-48ea-961e-a6b364a7826f"
      },
      "outputs": [],
      "source": [
        "# Plot posterior distribution for all priors\n",
        "plt.figure(figsize=(10, 7))\n",
        "plt.hist(valid_mass_1, bins=50, weights=posterior_1, color='green', alpha=0.5, label='Prior 1 (Normal, mean=1, std=0.2)')\n",
        "plt.hist(valid_mass_2, bins=50, weights=posterior_2, color='blue', alpha=0.5, label='Prior 2 (Uniform, min=0.5, max=2.0)')\n",
        "plt.hist(valid_mass_3, bins=50, weights=posterior_3, color='red', alpha=0.5, label='Prior 3 (Normal, mean=1.2, std=0.1)')\n",
        "\n",
        "plt.xlabel(\"Mass (Solar Masses)\")\n",
        "plt.ylabel(\"Probability Density\")\n",
        "plt.xlim(1, 2)\n",
        "plt.title(\"Bayesian Inference of Star Mass with Different Priors\")\n",
        "plt.legend()\n",
        "plt.show()"
      ]
    }
  ],
  "metadata": {
    "colab": {
      "provenance": []
    },
    "kernelspec": {
      "display_name": "astro_workshop_env",
      "language": "python",
      "name": "python3"
    },
    "language_info": {
      "codemirror_mode": {
        "name": "ipython",
        "version": 3
      },
      "file_extension": ".py",
      "mimetype": "text/x-python",
      "name": "python",
      "nbconvert_exporter": "python",
      "pygments_lexer": "ipython3",
      "version": "3.11.2"
    }
  },
  "nbformat": 4,
  "nbformat_minor": 0
}
