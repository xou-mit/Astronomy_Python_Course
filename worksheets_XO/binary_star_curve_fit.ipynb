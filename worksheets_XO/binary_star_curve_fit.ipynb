{
  "cells": [
    {
      "cell_type": "markdown",
      "metadata": {},
      "source": [
        "# Binary Star Fitting: Curve Fit\n",
        "\n",
        "This tutorial demonstrates the challenges of fitting incomplete astronomical data using binary star radial velocity measurements as an example. We'll explore:\n",
        "\n",
        "1. **Theoretical Background**: Understanding binary star systems and radial velocity variations\n",
        "2. **Curve Fitting**: Using `scipy.optimize.curve_fit` \n",
        "3. **Incomplete Data Challenge**: How missing observations can lead to different solutions\n"
      ]
    },
    {
      "cell_type": "markdown",
      "metadata": {},
      "source": [
        "## 1. Theoretical Background: Binary Star Systems\n",
        "\n",
        "Binary star systems consist of two stars orbiting their common center of mass. When we observe one star (the primary), its radial velocity (line-of-sight velocity) varies periodically due to the gravitational influence of its companion.\n",
        "\n",
        "### Key Parameters:\n",
        "- **Period (P)**: Orbital period in days\n",
        "- **Eccentricity (e)**: Shape of the orbit (between 0 and 1, 0 = circular, 1 = parabolic)\n",
        "- **Argument of periastron (ω)**: Orientation of the orbit\n",
        "- **Time of periastron passage (T₀)**: When the star is closest to the companion\n",
        "- **Velocity amplitude (K)**: Maximum radial velocity variation\n",
        "- **Systemic velocity (γ)**: Average velocity of the system\n",
        "\n",
        "### Radial Velocity Equation:\n",
        "The radial velocity of the primary star is given by:\n",
        "\n",
        "$$v_r(t) = \\gamma + K[\\cos(\\omega + f(t)) + e\\cos(\\omega)]$$\n",
        "\n",
        "where $f(t)$ is the true anomaly, which depends on the orbital parameters and time.\n",
        "\n",
        "This model has six free parameters!\n"
      ]
    },
    {
      "cell_type": "code",
      "execution_count": null,
      "metadata": {},
      "outputs": [],
      "source": [
        "import numpy as np\n",
        "import pandas as pd\n",
        "import matplotlib.pyplot as plt\n",
        "from scipy.optimize import curve_fit\n",
        "# import emcee\n",
        "# import corner\n",
        "from astropy import units as u\n",
        "from astropy.constants import G\n",
        "import warnings\n",
        "warnings.filterwarnings('ignore')\n",
        "\n",
        "# Set up plotting\n",
        "plt.style.use('default')\n",
        "plt.rcParams['figure.figsize'] = (10, 6)\n",
        "plt.rcParams['font.size'] = 12\n",
        "\n",
        "# Set random seed for reproducibility\n",
        "np.random.seed(42)\n"
      ]
    },
    {
      "cell_type": "markdown",
      "metadata": {},
      "source": [
        "## 2. Radial Velocity Model Implementation\n",
        "\n",
        "Let's implement the radial velocity model for a binary star system. You are not requried but encouraged to figure out what the functions are doing. The function radial_velocity_model() returns the radial velocities at the times provided given the six model parameters. Principally, this is the same as the linear model case except with four more free model parameters.\n"
      ]
    },
    {
      "cell_type": "code",
      "execution_count": null,
      "metadata": {},
      "outputs": [],
      "source": [
        "def solve_kepler_equation(E, e):\n",
        "    \"\"\"Solve Kepler's equation: M = E - e*sin(E)\"\"\"\n",
        "    M = E - e * np.sin(E)\n",
        "    return M\n",
        "\n",
        "def get_true_anomaly(E, e):\n",
        "    \"\"\"Calculate true anomaly from eccentric anomaly\"\"\"\n",
        "    f = 2 * np.arctan(np.sqrt((1 + e) / (1 - e)) * np.tan(E / 2))\n",
        "    return f\n",
        "\n",
        "def radial_velocity_model(t, P, e, omega, T0, K, gamma):\n",
        "    \"\"\"\n",
        "    Calculate radial velocity for a binary star system\n",
        "    \n",
        "    Parameters:\n",
        "    -----------\n",
        "    t : array_like\n",
        "        Time array\n",
        "    P : float\n",
        "        Orbital period in days\n",
        "    e : float\n",
        "        Eccentricity (0-1)\n",
        "    omega : float\n",
        "        Argument of periastron in radians\n",
        "    T0 : float\n",
        "        Time of periastron passage\n",
        "    K : float\n",
        "        Velocity amplitude in km/s\n",
        "    gamma : float\n",
        "        Systemic velocity in km/s\n",
        "    \n",
        "    Returns:\n",
        "    --------\n",
        "    v_r : array_like\n",
        "        Radial velocity in km/s\n",
        "    \"\"\"\n",
        "    # Mean anomaly\n",
        "    M = 2 * np.pi * (t - T0) / P\n",
        "    \n",
        "    # Solve for eccentric anomaly using Newton-Raphson\n",
        "    E = M.copy()  # Initial guess\n",
        "    for _ in range(10):  # Max iterations\n",
        "        E_new = E - (E - e * np.sin(E) - M) / (1 - e * np.cos(E))\n",
        "        if np.allclose(E, E_new, rtol=1e-10):\n",
        "            break\n",
        "        E = E_new\n",
        "    \n",
        "    # True anomaly\n",
        "    f = get_true_anomaly(E, e)\n",
        "    \n",
        "    # Radial velocity\n",
        "    v_r = gamma + K * (np.cos(omega + f) + e * np.cos(omega))\n",
        "    \n",
        "    return v_r\n",
        "\n",
        "# Test the model with some example parameters\n",
        "t_test = np.linspace(0, 500, 50)\n",
        "# Feel free to play around with these parameters to see how they affect the radial velocity\n",
        "P_test, e_test, omega_test, T0_test, K_test, gamma_test = 150.0, 0.3, np.pi/3, 30.0, 20.0, 50.0\n",
        "\n",
        "v_r_test = radial_velocity_model(t_test, P_test, e_test, omega_test, T0_test, K_test, gamma_test)"
      ]
    },
    {
      "cell_type": "code",
      "execution_count": null,
      "metadata": {},
      "outputs": [],
      "source": [
        "# Plot the results\n",
        "plt.figure(figsize=(12, 5))\n",
        "plt.subplot(1, 2, 1)\n",
        "plt.plot(t_test, v_r_test, c='b', ls='None', marker='o', linewidth=2)\n",
        "plt.xlabel('Time (days)')\n",
        "plt.ylabel('Radial Velocity (km/s)')\n",
        "plt.title('Example Binary Star Radial Velocity Curve')\n",
        "plt.grid(True, alpha=0.3)\n",
        "\n",
        "plt.subplot(1, 2, 2)\n",
        "plt.plot(t_test % P_test, v_r_test, c='b', ls='None', marker='o', linewidth=2)\n",
        "plt.xlabel('Phase')\n",
        "plt.ylabel('Radial Velocity (km/s)')\n",
        "plt.title('Folded Light Curve')\n",
        "plt.grid(True, alpha=0.3)\n",
        "# plt.tight_layout()\n",
        "plt.show()\n",
        "\n",
        "print(f\"Model parameters:\")\n",
        "print(f\"Period: {P_test} days\")\n",
        "print(f\"Eccentricity: {e_test}\")\n",
        "print(f\"Omega: {omega_test:.3f} rad ({np.degrees(omega_test):.1f}°)\")\n",
        "print(f\"T0: {T0_test} days\")\n",
        "print(f\"K: {K_test} km/s\")\n",
        "print(f\"Gamma: {gamma_test} km/s\")\n"
      ]
    },
    {
      "cell_type": "markdown",
      "metadata": {},
      "source": [
        "## 3. Import and fit a set of observed radial velocities\n",
        "\n",
        "Now let's try to fit some data where we do not know the true model parameters. Using what you learned with the linear model, perform a fit with curve_fit.\n"
      ]
    },
    {
      "cell_type": "code",
      "execution_count": null,
      "metadata": {},
      "outputs": [],
      "source": [
        "# Import the mock data\n",
        "binary_data = pd.read_csv('binary_measurements_complete.csv')\n",
        "# The data contains three columns: time, vlos, and error\n",
        "binary_data"
      ]
    },
    {
      "cell_type": "code",
      "execution_count": null,
      "metadata": {},
      "outputs": [],
      "source": [
        "# Take a look at the data to understand what we are working with\n",
        "plt.figure(figsize=(14, 5))\n",
        "\n",
        "plt.errorbar(binary_data['time'], binary_data['vlos'], yerr=binary_data['error'], fmt='ko', markersize=3, \n",
        "             alpha=0.4)\n",
        "plt.xlabel('Time (days)')\n",
        "plt.ylabel('Radial Velocity (km/s)')\n",
        "plt.grid(True, alpha=0.3)\n",
        "\n",
        "# plt.tight_layout()\n",
        "plt.show()"
      ]
    },
    {
      "cell_type": "markdown",
      "metadata": {},
      "source": [
        "Looking at the data, you may notice that some model parameters (e.g. K, the velocity amplitude and gamma, the systemic velocity) can already be estimated just from eyeballing. But we can do better with curve_fit!"
      ]
    },
    {
      "cell_type": "code",
      "execution_count": null,
      "metadata": {},
      "outputs": [],
      "source": [
        "# Pick some initial guess (close to true parameters)\n",
        "p0_1 = [\n",
        "    200,      # Period: eyeball it\n",
        "    0.5,       # Eccentricity: pick between 0-1\n",
        "    np.pi,   # Omega: pick between 0-2pi\n",
        "    20,      # T0: random guess\n",
        "    20,       # K: eyeball it\n",
        "    50    # Gamma: eyeball it\n",
        "]\n",
        "\n",
        "# Parameter bounds for curve_fit; pick something sensible\n",
        "bounds = (\n",
        "    [10, 0, 0, 0, 5, -100],      # Lower bounds\n",
        "    [500, 0.99, 2*np.pi, 50, 50, 100]  # Upper bounds\n",
        ")\n",
        "\n",
        "print(\"Initial guess:\")\n",
        "param_names = ['P', 'e', 'omega', 'T0', 'K', 'gamma']\n",
        "for i, name in enumerate(param_names):\n",
        "    if name == 'omega':\n",
        "        print(f\"{name}: {p0_1[i]:.3f} rad ({np.degrees(p0_1[i]):.1f}°)\")\n",
        "    else:\n",
        "        print(f\"{name}: {p0_1[i]:.3f}\")\n",
        "\n",
        "# Perform the fit\n",
        "popt_1, pcov_1 = curve_fit(\n",
        "    radial_velocity_model, binary_data['time'], binary_data['vlos'], \n",
        "    p0=p0_1, sigma=binary_data['error'], \n",
        "    bounds=bounds, maxfev=10000\n",
        ")\n",
        "\n",
        "# Calculate uncertainties\n",
        "perr_1 = np.sqrt(np.diag(pcov_1))\n",
        "\n",
        "print(\"\\nFit results:\")\n",
        "print(\"Parameter | Best Fit | Uncertainty\")\n",
        "print(\"-\" * 60)\n",
        "\n",
        "for i, name in enumerate(param_names):\n",
        "    fit_val = popt_1[i]\n",
        "    err_val = perr_1[i]\n",
        "    \n",
        "    if name == 'omega':\n",
        "        print(f\"{name:8s} | {fit_val:8.3f} | {err_val:8.3f}\")\n",
        "    else:\n",
        "        print(f\"{name:8s} | {fit_val:8.3f} | {err_val:8.3f}\")\n"
      ]
    },
    {
      "cell_type": "markdown",
      "metadata": {},
      "source": [
        "Let's examine in the figure how well this best-fit model from curve_fit describe the data."
      ]
    },
    {
      "cell_type": "code",
      "execution_count": null,
      "metadata": {},
      "outputs": [],
      "source": [
        "# Plot the results\n",
        "plt.figure(figsize=(14, 5))\n",
        "\n",
        "t_plot = np.linspace(0, 500, 1000)\n",
        "v_r_fit_plot = radial_velocity_model(t_plot, *popt_1)\n",
        "plt.errorbar(binary_data['time'], binary_data['vlos'], yerr=binary_data['error'], fmt='ko', markersize=3, \n",
        "             alpha=0.4,label='Data')\n",
        "plt.plot(t_plot, v_r_fit_plot, 'r--', linewidth=2, label='Best fit')\n",
        "plt.xlabel('Time (days)')\n",
        "plt.ylabel('Radial Velocity (km/s)')\n",
        "plt.grid(True, alpha=0.3)\n",
        "plt.legend()\n",
        "\n",
        "# plt.tight_layout()\n",
        "plt.show()"
      ]
    },
    {
      "cell_type": "markdown",
      "metadata": {},
      "source": [
        "Looks great!"
      ]
    },
    {
      "cell_type": "markdown",
      "metadata": {},
      "source": [
        "## 4. Challenges in Incomplete Data Scenario\n",
        "\n",
        "Unfortunately real astronomical observations rarely comes in such uniformly sampled time steps. Situations such as the following will leave gaps in the data:\n",
        "- Weather prevents observations\n",
        "- Telescope time is limited\n",
        "- Seasonal constraints exist\n",
        "- Equipment failures occur\n",
        "\n",
        "Let's now consider the same dataset, but with some of the observations missing."
      ]
    },
    {
      "cell_type": "code",
      "execution_count": null,
      "metadata": {},
      "outputs": [],
      "source": [
        "# Import the mock data with missing observation; the data structure is the same\n",
        "binary_data_inc = pd.read_csv('binary_measurements_observed.csv')"
      ]
    },
    {
      "cell_type": "code",
      "execution_count": null,
      "metadata": {},
      "outputs": [],
      "source": [
        "# Take a look at the data to understand what we are working with\n",
        "plt.figure(figsize=(14, 5))\n",
        "\n",
        "plt.errorbar(binary_data['time'], binary_data['vlos'], yerr=binary_data['error'], fmt='ko', markersize=3, \n",
        "             alpha=0.4)\n",
        "plt.errorbar(binary_data_inc['time'], binary_data_inc['vlos'], yerr=binary_data_inc['error'], fmt='bo', markersize=5, \n",
        "             alpha=0.4)\n",
        "plt.xlabel('Time (days)')\n",
        "plt.ylabel('Radial Velocity (km/s)')\n",
        "plt.grid(True, alpha=0.3)\n",
        "\n",
        "# plt.tight_layout()\n",
        "plt.show()"
      ]
    },
    {
      "cell_type": "markdown",
      "metadata": {},
      "source": [
        "Repeat the excercise above; what do you find? Try changing your initial guess and see how that affect the results."
      ]
    },
    {
      "cell_type": "code",
      "execution_count": null,
      "metadata": {},
      "outputs": [],
      "source": [
        "# Pick some initial guess (close to true parameters)\n",
        "p0_2 = [\n",
        "    300,      # Period: eyeball it\n",
        "    0.5,       # Eccentricity: pick between 0-1\n",
        "    np.pi,   # Omega: pick between 0-2pi\n",
        "    20,      # T0: random guess\n",
        "    20,       # K: eyeball it\n",
        "    50    # Gamma: eyeball it\n",
        "]\n",
        "\n",
        "# Parameter bounds for curve_fit; pick something sensible\n",
        "bounds = (\n",
        "    [10, 0, 0, 0, 5, -100],      # Lower bounds\n",
        "    [500, 0.99, 2*np.pi, 50, 50, 100]  # Upper bounds\n",
        ")\n",
        "\n",
        "print(\"Initial guess:\")\n",
        "param_names = ['P', 'e', 'omega', 'T0', 'K', 'gamma']\n",
        "for i, name in enumerate(param_names):\n",
        "    if name == 'omega':\n",
        "        print(f\"{name}: {p0_2[i]:.3f} rad ({np.degrees(p0_2[i]):.1f}°)\")\n",
        "    else:\n",
        "        print(f\"{name}: {p0_2[i]:.3f}\")\n",
        "\n",
        "# Perform the fit\n",
        "popt_2, pcov_2 = curve_fit(\n",
        "    radial_velocity_model, binary_data_inc['time'], binary_data_inc['vlos'], \n",
        "    p0=p0_2, sigma=binary_data_inc['error'], \n",
        "    bounds=bounds, maxfev=10000\n",
        ")\n",
        "\n",
        "# Calculate uncertainties\n",
        "perr_2 = np.sqrt(np.diag(pcov_2))\n",
        "\n",
        "print(\"\\nFit results:\")\n",
        "print(\"Parameter | Best Fit | Uncertainty\")\n",
        "print(\"-\" * 60)\n",
        "\n",
        "for i, name in enumerate(param_names):\n",
        "    fit_val = popt_2[i]\n",
        "    err_val = perr_2[i]\n",
        "    \n",
        "    if name == 'omega':\n",
        "        print(f\"{name:8s} | {fit_val:8.3f} | {err_val:8.3f}\")\n",
        "    else:\n",
        "        print(f\"{name:8s} | {fit_val:8.3f} | {err_val:8.3f}\")\n"
      ]
    },
    {
      "cell_type": "code",
      "execution_count": null,
      "metadata": {},
      "outputs": [],
      "source": [
        "# Plot the results\n",
        "plt.figure(figsize=(14, 5))\n",
        "\n",
        "t_plot = np.linspace(0, 500, 1000)\n",
        "v_r_fit_plot = radial_velocity_model(t_plot, *popt_2)\n",
        "plt.errorbar(binary_data_inc['time'], binary_data_inc['vlos'], yerr=binary_data_inc['error'], fmt='ko', markersize=3, \n",
        "             alpha=0.4,label='Data')\n",
        "plt.plot(t_plot, v_r_fit_plot, 'r--', linewidth=2, label='Best fit')\n",
        "plt.xlabel('Time (days)')\n",
        "plt.ylabel('Radial Velocity (km/s)')\n",
        "plt.grid(True, alpha=0.3)\n",
        "plt.legend()\n",
        "\n",
        "# plt.tight_layout()\n",
        "plt.show()"
      ]
    },
    {
      "cell_type": "markdown",
      "metadata": {},
      "source": [
        "#### The curve_fit function can give completely different results with different initial guesses! Especially when the data is incomplete and you do not have a good idea of the true parameters. How do astronomers deal with that?"
      ]
    },
    {
      "cell_type": "code",
      "execution_count": null,
      "metadata": {},
      "outputs": [],
      "source": []
    }
  ],
  "metadata": {
    "kernelspec": {
      "display_name": "python312",
      "language": "python",
      "name": "python3"
    },
    "language_info": {
      "codemirror_mode": {
        "name": "ipython",
        "version": 3
      },
      "file_extension": ".py",
      "mimetype": "text/x-python",
      "name": "python",
      "nbconvert_exporter": "python",
      "pygments_lexer": "ipython3",
      "version": "3.12.11"
    }
  },
  "nbformat": 4,
  "nbformat_minor": 2
}
